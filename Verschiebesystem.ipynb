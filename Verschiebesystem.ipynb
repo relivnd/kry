{
 "cells": [
  {
   "cell_type": "markdown",
   "source": [
    "# Verschiebesystem\n",
    "Ziel ist ein Programm welches eine Eingabe x durch die buchstabenweise Verschlüsselung mit dem Verschiebekryptosystem zu einem Chiffretext y verschlüsselt und umgekehrt."
   ],
   "metadata": {
    "collapsed": false
   }
  },
  {
   "cell_type": "code",
   "execution_count": 10,
   "outputs": [],
   "source": [
    "def encrypt(x, k):\n",
    "    arr = []\n",
    "    res = \"\"\n",
    "    for let in x:\n",
    "        encr = num_to_let((let_to_num(let) + k) % 26)\n",
    "        arr.append(encr)\n",
    "    res = res.join(arr)\n",
    "    return res\n",
    "\n",
    "def decrypt(x, k):\n",
    "    arr = []\n",
    "    res = \"\"\n",
    "    for let in x:\n",
    "        encr = num_to_let((let_to_num(let) - k) % 26)\n",
    "        arr.append(encr)\n",
    "    res = res.join(arr)\n",
    "    return res\n",
    "\n",
    "def let_to_num(let):\n",
    "    return ord(let) - 96\n",
    "\n",
    "def num_to_let(num):\n",
    "    return chr(num + 96)"
   ],
   "metadata": {
    "collapsed": false
   }
  },
  {
   "cell_type": "code",
   "execution_count": 11,
   "outputs": [
    {
     "name": "stdout",
     "output_type": "stream",
     "text": [
      "Hi, please enter a String to encrypt\n",
      "the following text will be encrypted / decrypted: asdffdsa\n",
      "the result is: ewhjjhwe\n",
      "the initial string was: asdffdsa\n"
     ]
    }
   ],
   "source": [
    "k = 4 #Schlüssel, gibt an um wie viele Stellen verschoben werden soll\n",
    "\n",
    "print(\"Hi, please enter a String to encrypt\")\n",
    "\n",
    "x = input().lower().replace(\" \", \"\")\n",
    "\n",
    "print(\"the following text will be encrypted / decrypted: \" + x)\n",
    "\n",
    "encrypted_text = encrypt(x, k)\n",
    "\n",
    "print(\"the result is: \" + encrypted_text)\n",
    "\n",
    "cleartext = decrypt(encrypted_text, k)\n",
    "\n",
    "print(\"the initial string was: \" + cleartext)"
   ],
   "metadata": {
    "collapsed": false
   }
  },
  {
   "cell_type": "code",
   "execution_count": null,
   "outputs": [],
   "source": [],
   "metadata": {
    "collapsed": false
   }
  }
 ],
 "metadata": {
  "kernelspec": {
   "display_name": "Python 3",
   "language": "python",
   "name": "python3"
  },
  "language_info": {
   "codemirror_mode": {
    "name": "ipython",
    "version": 2
   },
   "file_extension": ".py",
   "mimetype": "text/x-python",
   "name": "python",
   "nbconvert_exporter": "python",
   "pygments_lexer": "ipython2",
   "version": "2.7.6"
  }
 },
 "nbformat": 4,
 "nbformat_minor": 0
}
